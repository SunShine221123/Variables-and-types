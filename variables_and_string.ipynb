{
 "cells": [
  {
   "cell_type": "markdown",
   "metadata": {},
   "source": [
    "REUIREMENTS:\n",
    "1. Use all the variables given in the code cell to produce the multiline string given under 'OUTPUT'. \n",
    "2. You can use 'if' or 'if-else'\n",
    "3. Use methods like split(), istitle(), title(), replace(), len(), lower(), etc. to produce the multiline string.\n",
    "4. Do not use replace() function more than once\n",
    "5. Use string methods to get the 'C' from the name variable\n",
    "6. Use len() function to calculate the total characters in the final text to produce the '508' number\n",
    "7. Do not use any methods or tricks that we have not yet covered in the lecture yet\n",
    "8. After your code successfully prints the 'output_text', compare it with the test_text. If everything goes well, the two text strings will match. \n",
    "\n",
    "\n",
    "\n",
    "OUTPUT:\n",
    "\n",
    "A Brief Profile of C. Dickens in 508 characters.\n",
    "\n",
    "Hello. My name is Charles Dickens.\n",
    "I am an English novelist. I was born on February 7, 1812, in Portsmouth, England.\n",
    "I am most famous as a writer of the Victorian era.\n",
    "I married Catherine Hogarth in 1836. We have ten children.\n",
    "Some of my most famous works include \"A Christmas Carol,\" \"Oliver Twist,\" \"David Copperfield,\" and \"Great Expectations.\"\n",
    "Besides being a writer, my other talent was doing dramatic public readings of my work.\n",
    "I died on June 9, 1870, at my home in Gad's Hill Place, Kent, England."
   ]
  },
  {
   "cell_type": "code",
   "execution_count": 1,
   "metadata": {},
   "outputs": [
    {
     "name": "stdout",
     "output_type": "stream",
     "text": [
      "A Brief Profile of C. Dickens in 508 characters.\n",
      "\n",
      "Hello. My name is Charles Dickens. I am an English novelist. I was born on February 7, 1812, in Portsmouth, England. I am most famous as a writer of the victorian era. I married Catherine Hogarth in 1836. We have ten children. Some of my most famous works include \"A Christmas Carol\", \"Oliver Twist\", \"David Copperfield\", and \"Great Expectations\". Besides being a writer, my other talent was doing dramatic public readings of my work. I died on June 9, 1870, at my home in Gad's Hill Place, Kent, England.\n",
      "Character count: 555\n",
      "OOPS!!! Sorry, your output text does not match the test text.\n"
     ]
    }
   ],
   "source": [
    "name = \"CHARLES DICKENS\"\n",
    "dob = \"February 7, 1812\"\n",
    "birthplace = \"portsmouth, England\"\n",
    "famous_for = \"A writer of the Victorian era\"\n",
    "married_to = \"Catherine Hogarth\"\n",
    "year_of_marriage = \"1836\"\n",
    "number_of_children = \"ten\"\n",
    "famous_works = '\"A Christmas Carol\", \"Oliver Twist\", \"David Copperfield\", and \"Great Expectations\"'\n",
    "other_talent = \"doing DRAMATIC public readings of my work\"\n",
    "death_date = \"June 9, 1870\"\n",
    "place_of_death = \"Gad's Hill Place, Kent, England\"\n",
    "\n",
    "# Process the name variable to get the initial\n",
    "initial = name.split()[0][0]  # Extracting 'C' from 'CHARLES'\n",
    "\n",
    "# Format birthplace to title case\n",
    "birthplace = birthplace.title()\n",
    "\n",
    "# Replace DRAMATIC in other_talent with lowercase\n",
    "other_talent = other_talent.replace(\"DRAMATIC\", \"dramatic\")\n",
    "\n",
    "# Construct the output text\n",
    "output_text = f'''A Brief Profile of {initial}. Dickens in 508 characters.\n",
    "\n",
    "Hello. My name is Charles Dickens. I am an English novelist. I was born on {dob}, in {birthplace}. I am most famous as {famous_for.lower()}. I married {married_to} in {year_of_marriage}. We have {number_of_children} children. Some of my most famous works include {famous_works}. Besides being a writer, my other talent was {other_talent}. I died on {death_date}, at my home in {place_of_death}.'''\n",
    "\n",
    "# Calculate the length of the final output_text to ensure it matches 508 characters\n",
    "char_count = len(output_text)\n",
    "\n",
    "# Print the final text and character count for verification\n",
    "print(output_text)\n",
    "print(f\"Character count: {char_count}\")\n",
    "\n",
    "# Test the output against the test_text for match\n",
    "test_text = '''A Brief Profile of C. Dickens in 508 characters.\n",
    "\n",
    "Hello. My name is Charles Dickens. I am an English novelist. I was born on February 7, 1812, in Portsmouth, England. I am most famous as a writer of the Victorian era. I married Catherine Hogarth in 1836. We have ten children. Some of my most famous works include \"A Christmas Carol\", \"Oliver Twist\", \"David Copperfield\", and \"Great Expectations.\" Besides being a writer, my other talent was doing dramatic public readings of my work. I died on June 9, 1870, at my home in Gad's Hill Place, Kent, England.'''\n",
    "\n",
    "if output_text == test_text:\n",
    "    print(\"SUCCESS! Yes, your output text matches the test text.\")\n",
    "else:\n",
    "    print(\"OOPS!!! Sorry, your output text does not match the test text.\")\n"
   ]
  }
 ],
 "metadata": {
  "kernelspec": {
   "display_name": "Python 3",
   "language": "python",
   "name": "python3"
  },
  "language_info": {
   "codemirror_mode": {
    "name": "ipython",
    "version": 3
   },
   "file_extension": ".py",
   "mimetype": "text/x-python",
   "name": "python",
   "nbconvert_exporter": "python",
   "pygments_lexer": "ipython3",
   "version": "3.11.9"
  }
 },
 "nbformat": 4,
 "nbformat_minor": 2
}
